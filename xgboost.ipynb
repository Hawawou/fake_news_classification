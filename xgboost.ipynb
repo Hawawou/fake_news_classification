{
 "cells": [
  {
   "cell_type": "code",
   "execution_count": 36,
   "metadata": {},
   "outputs": [],
   "source": [
    "import pandas as pd\n",
    "import numpy as np\n",
    "import matplotlib.pyplot as plt\n",
    "import seaborn as sns\n",
    "import torch\n",
    "\n",
    "\n",
    "from sklearn.model_selection import cross_val_score\n",
    "import xgboost as xgb\n",
    "from transformers import AutoTokenizer, AutoModel\n",
    "from datasets import Dataset"
   ]
  },
  {
   "cell_type": "markdown",
   "metadata": {},
   "source": [
    "- 1 = true \n",
    "- 0 = false"
   ]
  },
  {
   "cell_type": "code",
   "execution_count": 45,
   "metadata": {},
   "outputs": [],
   "source": [
    "train = pd.read_csv('train.csv')\n",
    "test = pd.read_csv('test.csv')\n",
    "val = pd.read_csv('val.csv')"
   ]
  },
  {
   "cell_type": "code",
   "execution_count": 48,
   "metadata": {},
   "outputs": [],
   "source": [
    "train = train.dropna()\n",
    "\n",
    "# Keep only rows where text is a string\n",
    "train = train[train['text'].apply(lambda x: isinstance(x, str) and x.strip() != '')]\n",
    "val = val[val['text'].apply(lambda x: isinstance(x, str) and x.strip() != '')]\n",
    "test = test[test['text'].apply(lambda x: isinstance(x, str) and x.strip() != '')]"
   ]
  },
  {
   "cell_type": "code",
   "execution_count": 62,
   "metadata": {},
   "outputs": [
    {
     "ename": "AttributeError",
     "evalue": "'list' object has no attribute 'head'",
     "output_type": "error",
     "traceback": [
      "\u001b[0;31m---------------------------------------------------------------------------\u001b[0m",
      "\u001b[0;31mAttributeError\u001b[0m                            Traceback (most recent call last)",
      "Cell \u001b[0;32mIn[62], line 1\u001b[0m\n\u001b[0;32m----> 1\u001b[0m \u001b[43mtrain\u001b[49m\u001b[38;5;241;43m.\u001b[39;49m\u001b[43mhead\u001b[49m()\n",
      "\u001b[0;31mAttributeError\u001b[0m: 'list' object has no attribute 'head'"
     ]
    }
   ],
   "source": [
    "train.head()"
   ]
  },
  {
   "cell_type": "code",
   "execution_count": 49,
   "metadata": {},
   "outputs": [
    {
     "data": {
      "text/plain": [
       "<Axes: xlabel='label'>"
      ]
     },
     "execution_count": 49,
     "metadata": {},
     "output_type": "execute_result"
    },
    {
     "data": {
      "image/png": "[encoded data removed]",
      "text/plain": [
       "<Figure size 640x480 with 1 Axes>"
      ]
     },
     "metadata": {},
     "output_type": "display_data"
    }
   ],
   "source": [
    "train['label'].value_counts().plot(kind='bar')"
   ]
  },
  {
   "cell_type": "code",
   "execution_count": 50,
   "metadata": {},
   "outputs": [
    {
     "name": "stdout",
     "output_type": "stream",
     "text": [
      "Longest sentence: 4854\n",
      "Shortest sentence: 1\n"
     ]
    }
   ],
   "source": [
    "# length of the longest sentence\n",
    "train['length'] = train['text'].apply(lambda x: len(str(x).split()))\n",
    "longest = train['length'].max()\n",
    "shortest = train['length'].min()\n",
    "\n",
    "print(f\"Longest sentence: {longest}\")\n",
    "print(f\"Shortest sentence: {shortest}\")"
   ]
  },
  {
   "cell_type": "code",
   "execution_count": 51,
   "metadata": {},
   "outputs": [],
   "source": [
    "X_train = train.drop(['label', 'Unnamed: 0'], axis=1)\n",
    "y_train = train['label']\n",
    "\n",
    "X_val = val.drop(['label', 'Unnamed: 0'], axis=1)\n",
    "y_val = val['label']\n",
    "\n",
    "X_test = test.drop(['label', 'Unnamed: 0'], axis=1)\n",
    "y_test = test['label']"
   ]
  },
  {
   "cell_type": "code",
   "execution_count": 64,
   "metadata": {},
   "outputs": [],
   "source": [
    "y_train = y_train.astype(int)\n",
    "y_val = y_val.astype(int)\n",
    "y_test = y_test.astype(int)"
   ]
  },
  {
   "cell_type": "code",
   "execution_count": 56,
   "metadata": {},
   "outputs": [],
   "source": [
    "from sentence_transformers import SentenceTransformer\n",
    "model = SentenceTransformer('distilbert-base-nli-stsb-mean-tokens')"
   ]
  },
  {
   "cell_type": "code",
   "execution_count": 57,
   "metadata": {},
   "outputs": [],
   "source": [
    "train = X_train['text'].to_list()\n",
    "val = X_val['text'].to_list()\n",
    "test = X_test['text'].to_list()"
   ]
  },
  {
   "cell_type": "code",
   "execution_count": 58,
   "metadata": {},
   "outputs": [],
   "source": [
    "train_embeddings = model.encode(train)\n",
    "val_embeddings = model.encode(val)\n",
    "test_embeddings = model.encode(test)"
   ]
  },
  {
   "cell_type": "code",
   "execution_count": 59,
   "metadata": {},
   "outputs": [
    {
     "name": "stdout",
     "output_type": "stream",
     "text": [
      "(24321, 768)\n"
     ]
    }
   ],
   "source": [
    "print(train_embeddings.shape)"
   ]
  },
  {
   "cell_type": "code",
   "execution_count": 65,
   "metadata": {},
   "outputs": [
    {
     "name": "stdout",
     "output_type": "stream",
     "text": [
      "24321\n"
     ]
    }
   ],
   "source": [
    "print(len(y_train))"
   ]
  },
  {
   "cell_type": "code",
   "execution_count": 72,
   "metadata": {},
   "outputs": [],
   "source": [
    "learning_rate = np.arange(0.01, 1, 0.05)\n",
    "train_results = []\n",
    "val_results = []\n",
    "for lr in learning_rate:\n",
    "    model = xgb.XGBClassifier(learning_rate=lr)\n",
    "    \n",
    "    # Perform cross-validation on the training set\n",
    "    cv_scores = cross_val_score(model, train_embeddings, y_train, cv=5)  # 5-fold cross-validation\n",
    "    \n",
    "    # Store the mean score from cross-validation\n",
    "    train_results.append(np.mean(cv_scores))\n",
    "    \n",
    "    # Whatfit the model and score on the validation set\n",
    "    model.fit(train_embeddings, y_train)\n",
    "    val_score = model.score(val_embeddings, y_val)\n",
    "    val_results.append(val_score)"
   ]
  },
  {
   "cell_type": "code",
   "execution_count": 73,
   "metadata": {},
   "outputs": [
    {
     "data": {
      "image/png": "[encoded data removed]",
      "text/plain": [
       "<Figure size 640x480 with 1 Axes>"
      ]
     },
     "metadata": {},
     "output_type": "display_data"
    }
   ],
   "source": [
    "plt.plot(learning_rate, train_results, label='Train CV Score')\n",
    "plt.plot(learning_rate, val_results, label='Validation Score')\n",
    "plt.xlabel('Learning Rate')\n",
    "plt.ylabel('Accuracy')\n",
    "plt.legend()\n",
    "plt.show()"
   ]
  },
  {
   "cell_type": "code",
   "execution_count": 74,
   "metadata": {},
   "outputs": [
    {
     "name": "stdout",
     "output_type": "stream",
     "text": [
      "Accuracy: 0.9317873442703836\n",
      "Precision: 0.9381371640407785\n",
      "Recall: 0.9340253748558247\n",
      "F1 Score: 0.9360767541324703\n"
     ]
    }
   ],
   "source": [
    "from sklearn.metrics import accuracy_score, precision_score, recall_score, f1_score\n",
    "preds = model.predict(test_embeddings)\n",
    "print(f\"Accuracy: {accuracy_score(y_test, preds)}\")\n",
    "print(f\"Precision: {precision_score(y_test, preds)}\")\n",
    "print(f\"Recall: {recall_score(y_test, preds)}\")\n",
    "print(f\"F1 Score: {f1_score(y_test, preds)}\")"
   ]
  }
 ],
 "metadata": {
  "kernelspec": {
   "display_name": "venv",
   "language": "python",
   "name": "python3"
  },
  "language_info": {
   "codemirror_mode": {
    "name": "ipython",
    "version": 3
   },
   "file_extension": ".py",
   "mimetype": "text/x-python",
   "name": "python",
   "nbconvert_exporter": "python",
   "pygments_lexer": "ipython3",
   "version": "3.12.7"
  }
 },
 "nbformat": 4,
 "nbformat_minor": 2
}
